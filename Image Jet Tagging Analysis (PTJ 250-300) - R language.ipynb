{
 "cells": [
  {
   "cell_type": "markdown",
   "metadata": {},
   "source": [
    "# Reading the Data"
   ]
  },
  {
   "cell_type": "markdown",
   "metadata": {},
   "source": [
    "First we read the Signal Data and produce a heatmap from the average of all lines. We do so, in order to get the feeling of what our data looks like."
   ]
  },
  {
   "cell_type": "code",
   "execution_count": 1,
   "metadata": {},
   "outputs": [
    {
     "name": "stdout",
     "output_type": "stream",
     "text": [
      "[1] 11298   625\n",
      "      [,1]\n",
      " [1,]    0\n",
      " [2,]    0\n",
      " [3,]    0\n",
      " [4,]    0\n",
      " [5,]    0\n",
      " [6,]    0\n",
      " [7,]    0\n",
      " [8,]    0\n",
      " [9,]    0\n",
      "[10,]    0\n"
     ]
    }
   ],
   "source": [
    "# Importing the dataset\n",
    "signal_data = read.table('signal_PU0_13TeV_MJ-65-95_PTJ-250-300_ext.txt')\n",
    "print(dim(signal_data))\n",
    "print(as.matrix(signal_data[1:10,625]))"
   ]
  },
  {
   "cell_type": "markdown",
   "metadata": {},
   "source": [
    "Then, we calculate the average of all observations."
   ]
  },
  {
   "cell_type": "code",
   "execution_count": 2,
   "metadata": {
    "collapsed": true
   },
   "outputs": [],
   "source": [
    "mean_signal <- colMeans(signal_data)"
   ]
  },
  {
   "cell_type": "markdown",
   "metadata": {},
   "source": [
    "Now draw the Heatmap\n",
    "\n"
   ]
  },
  {
   "cell_type": "code",
   "execution_count": 4,
   "metadata": {},
   "outputs": [
    {
     "data": {
      "image/png": "[encoded data removed]",
      "text/plain": [
       "plot without title"
      ]
     },
     "metadata": {},
     "output_type": "display_data"
    }
   ],
   "source": [
    "# Printing heatmap\n",
    "dim(mean_signal) <- c(25,25)\n",
    "colfunc <- colorRampPalette(c(\"#FCEFD0\", \"#751503\"))\n",
    "image(mean_signal, col=colfunc(10))"
   ]
  },
  {
   "cell_type": "markdown",
   "metadata": {},
   "source": [
    "We then add a last column, with the value of `1`. This last column classify this data as signal data. After creating the full dataset we will rename this column to _class_."
   ]
  },
  {
   "cell_type": "code",
   "execution_count": 5,
   "metadata": {},
   "outputs": [
    {
     "name": "stdout",
     "output_type": "stream",
     "text": [
      "      [,1]\n",
      " [1,]    1\n",
      " [2,]    1\n",
      " [3,]    1\n",
      " [4,]    1\n",
      " [5,]    1\n",
      " [6,]    1\n",
      " [7,]    1\n",
      " [8,]    1\n",
      " [9,]    1\n",
      "[10,]    1\n"
     ]
    }
   ],
   "source": [
    "signal_data[,626] <- 1\n",
    "print(as.matrix(signal_data[1:10,626]))"
   ]
  },
  {
   "cell_type": "markdown",
   "metadata": {},
   "source": [
    "After preprocessing the _signal_ data, we will perform the same steps with the _background_ data."
   ]
  },
  {
   "cell_type": "code",
   "execution_count": 6,
   "metadata": {},
   "outputs": [
    {
     "name": "stdout",
     "output_type": "stream",
     "text": [
      "[1] 11298   625\n"
     ]
    }
   ],
   "source": [
    "background_data = read.table('background_PU0_13TeV_MJ-65-95_PTJ-250-300_ext.txt')\n",
    "print(dim(background_data))"
   ]
  },
  {
   "cell_type": "code",
   "execution_count": 7,
   "metadata": {},
   "outputs": [
    {
     "data": {
      "image/png": "[encoded data removed]",
      "text/plain": [
       "plot without title"
      ]
     },
     "metadata": {},
     "output_type": "display_data"
    }
   ],
   "source": [
    "mean_background <- colMeans(background_data)\n",
    "dim(mean_background) <-c(25, 25)\n",
    "image(mean_background, col=colfunc(10))"
   ]
  },
  {
   "cell_type": "markdown",
   "metadata": {},
   "source": [
    "We modify this data, to point out that this is the background data, by setting the last column to 0."
   ]
  },
  {
   "cell_type": "code",
   "execution_count": 8,
   "metadata": {},
   "outputs": [
    {
     "name": "stdout",
     "output_type": "stream",
     "text": [
      "      [,1]\n",
      " [1,]    0\n",
      " [2,]    0\n",
      " [3,]    0\n",
      " [4,]    0\n",
      " [5,]    0\n",
      " [6,]    0\n",
      " [7,]    0\n",
      " [8,]    0\n",
      " [9,]    0\n",
      "[10,]    0\n"
     ]
    }
   ],
   "source": [
    "background_data[,626] <- 0\n",
    "print(as.matrix(background_data[1:10,626]))"
   ]
  },
  {
   "cell_type": "markdown",
   "metadata": {},
   "source": [
    "Now we concatenate the data and shuffle it in order to randomize its columns."
   ]
  },
  {
   "cell_type": "code",
   "execution_count": 9,
   "metadata": {},
   "outputs": [
    {
     "name": "stdout",
     "output_type": "stream",
     "text": [
      "      [,1]\n",
      " [1,]    1\n",
      " [2,]    0\n",
      " [3,]    1\n",
      " [4,]    0\n",
      " [5,]    0\n",
      " [6,]    1\n",
      " [7,]    0\n",
      " [8,]    0\n",
      " [9,]    0\n",
      "[10,]    1\n"
     ]
    }
   ],
   "source": [
    "full_data <- rbind(signal_data,background_data)\n",
    "set.seed(123) # reproduce results\n",
    "full_data <- full_data[sample(nrow(full_data)),] \n",
    "print(as.matrix(full_data[1:10,626]))"
   ]
  },
  {
   "cell_type": "markdown",
   "metadata": {},
   "source": [
    "# Defining and Training the model"
   ]
  },
  {
   "cell_type": "markdown",
   "metadata": {},
   "source": [
    "Split the full dataset into test and train data in a 70-30% rate.\n"
   ]
  },
  {
   "cell_type": "code",
   "execution_count": 10,
   "metadata": {},
   "outputs": [
    {
     "name": "stdout",
     "output_type": "stream",
     "text": [
      "[1] 15818   626\n",
      "[1] 6778  626\n"
     ]
    }
   ],
   "source": [
    "library(caTools)\n",
    "set.seed(123)\n",
    "split = sample.split(full_data[[626]], SplitRatio = 0.7)\n",
    "training_set = subset(full_data, split == TRUE)\n",
    "test_set = subset(full_data, split == FALSE)\n",
    "print(dim(training_set))\n",
    "print(dim(test_set))"
   ]
  },
  {
   "cell_type": "markdown",
   "metadata": {},
   "source": [
    "Removing zero variance columns"
   ]
  },
  {
   "cell_type": "code",
   "execution_count": 11,
   "metadata": {
    "collapsed": true
   },
   "outputs": [],
   "source": [
    "test_set <- test_set[,apply(training_set, 2, var, na.rm=TRUE) != 0]\n",
    "training_set <-training_set[,apply(training_set, 2, var, na.rm=TRUE) != 0]"
   ]
  },
  {
   "cell_type": "markdown",
   "metadata": {},
   "source": [
    "Applying Principal Component Analysis (PCA)"
   ]
  },
  {
   "cell_type": "code",
   "execution_count": 12,
   "metadata": {},
   "outputs": [
    {
     "name": "stderr",
     "output_type": "stream",
     "text": [
      "Loading required package: lattice\n",
      "Loading required package: ggplot2\n"
     ]
    }
   ],
   "source": [
    "library(caret)\n",
    "library(e1071)\n",
    "pcaElem = 60\n",
    "pca = preProcess(x = training_set[-540], method = 'pca', pcaComp = pcaElem)  \n",
    "training_set = predict(pca, training_set)\n",
    "training_set = training_set[c(2:(pcaElem+1),1)]\n",
    "test_set = predict(pca, test_set)\n",
    "test_set = test_set[c(2:(pcaElem+1),1)]"
   ]
  },
  {
   "cell_type": "markdown",
   "metadata": {},
   "source": [
    "Fitting Logistic Regression to the Training set"
   ]
  },
  {
   "cell_type": "code",
   "execution_count": 13,
   "metadata": {},
   "outputs": [
    {
     "name": "stderr",
     "output_type": "stream",
     "text": [
      "Warning message:\n",
      "“glm.fit: fitted probabilities numerically 0 or 1 occurred”"
     ]
    }
   ],
   "source": [
    "classifier <- glm(formula = V626 ~ .,\n",
    "                family = binomial,\n",
    "                data = training_set)"
   ]
  },
  {
   "cell_type": "markdown",
   "metadata": {},
   "source": [
    "Predicting the Test set results"
   ]
  },
  {
   "cell_type": "code",
   "execution_count": 14,
   "metadata": {
    "collapsed": true
   },
   "outputs": [],
   "source": [
    "prob_pred <- predict(classifier, type = 'response', newdata = test_set[-(pcaElem+1)])\n",
    "y_pred <- ifelse(prob_pred > 0.5, 1, 0)"
   ]
  },
  {
   "cell_type": "markdown",
   "metadata": {},
   "source": [
    "# Computing accuracy"
   ]
  },
  {
   "cell_type": "code",
   "execution_count": 15,
   "metadata": {},
   "outputs": [
    {
     "name": "stdout",
     "output_type": "stream",
     "text": [
      "[1] \"Accuracy 0.726467984656241\"\n"
     ]
    }
   ],
   "source": [
    "misClasificError <- mean((y_pred > 0.5) != test_set[(pcaElem+1)])\n",
    "print(paste('Accuracy',1-misClasificError))"
   ]
  }
 ],
 "metadata": {
  "kernelspec": {
   "display_name": "R",
   "language": "R",
   "name": "ir"
  },
  "language_info": {
   "codemirror_mode": "r",
   "file_extension": ".r",
   "mimetype": "text/x-r-source",
   "name": "R",
   "pygments_lexer": "r",
   "version": "3.3.3"
  }
 },
 "nbformat": 4,
 "nbformat_minor": 2
}
